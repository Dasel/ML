{
 "cells": [
  {
   "cell_type": "code",
   "execution_count": 1,
   "metadata": {},
   "outputs": [],
   "source": [
    "import numpy as np\n",
    "import matplotlib.pyplot as plt\n",
    "import pandas as pd\n",
    "from sklearn.preprocessing import StandardScaler\n"
   ]
  },
  {
   "cell_type": "code",
   "execution_count": 2,
   "metadata": {},
   "outputs": [
    {
     "data": {
      "text/html": [
       "<div>\n",
       "<style scoped>\n",
       "    .dataframe tbody tr th:only-of-type {\n",
       "        vertical-align: middle;\n",
       "    }\n",
       "\n",
       "    .dataframe tbody tr th {\n",
       "        vertical-align: top;\n",
       "    }\n",
       "\n",
       "    .dataframe thead th {\n",
       "        text-align: right;\n",
       "    }\n",
       "</style>\n",
       "<table border=\"1\" class=\"dataframe\">\n",
       "  <thead>\n",
       "    <tr style=\"text-align: right;\">\n",
       "      <th></th>\n",
       "      <th>GameID</th>\n",
       "      <th>LeagueIndex</th>\n",
       "      <th>Age</th>\n",
       "      <th>HoursPerWeek</th>\n",
       "      <th>TotalHours</th>\n",
       "      <th>APM</th>\n",
       "      <th>SelectByHotkeys</th>\n",
       "      <th>AssignToHotkeys</th>\n",
       "      <th>UniqueHotkeys</th>\n",
       "      <th>MinimapAttacks</th>\n",
       "      <th>MinimapRightClicks</th>\n",
       "      <th>NumberOfPACs</th>\n",
       "      <th>GapBetweenPACs</th>\n",
       "      <th>ActionLatency</th>\n",
       "      <th>ActionsInPAC</th>\n",
       "      <th>TotalMapExplored</th>\n",
       "      <th>WorkersMade</th>\n",
       "      <th>UniqueUnitsMade</th>\n",
       "      <th>ComplexUnitsMade</th>\n",
       "      <th>ComplexAbilitiesUsed</th>\n",
       "    </tr>\n",
       "  </thead>\n",
       "  <tbody>\n",
       "    <tr>\n",
       "      <th>0</th>\n",
       "      <td>52</td>\n",
       "      <td>5</td>\n",
       "      <td>27</td>\n",
       "      <td>10</td>\n",
       "      <td>3000</td>\n",
       "      <td>143.7180</td>\n",
       "      <td>0.003515</td>\n",
       "      <td>0.000220</td>\n",
       "      <td>7</td>\n",
       "      <td>0.000110</td>\n",
       "      <td>0.000392</td>\n",
       "      <td>0.004849</td>\n",
       "      <td>32.6677</td>\n",
       "      <td>40.8673</td>\n",
       "      <td>4.7508</td>\n",
       "      <td>28</td>\n",
       "      <td>0.001397</td>\n",
       "      <td>6</td>\n",
       "      <td>0.0</td>\n",
       "      <td>0.000000</td>\n",
       "    </tr>\n",
       "    <tr>\n",
       "      <th>1</th>\n",
       "      <td>55</td>\n",
       "      <td>5</td>\n",
       "      <td>23</td>\n",
       "      <td>10</td>\n",
       "      <td>5000</td>\n",
       "      <td>129.2322</td>\n",
       "      <td>0.003304</td>\n",
       "      <td>0.000259</td>\n",
       "      <td>4</td>\n",
       "      <td>0.000294</td>\n",
       "      <td>0.000432</td>\n",
       "      <td>0.004307</td>\n",
       "      <td>32.9194</td>\n",
       "      <td>42.3454</td>\n",
       "      <td>4.8434</td>\n",
       "      <td>22</td>\n",
       "      <td>0.001194</td>\n",
       "      <td>5</td>\n",
       "      <td>0.0</td>\n",
       "      <td>0.000208</td>\n",
       "    </tr>\n",
       "    <tr>\n",
       "      <th>2</th>\n",
       "      <td>56</td>\n",
       "      <td>4</td>\n",
       "      <td>30</td>\n",
       "      <td>10</td>\n",
       "      <td>200</td>\n",
       "      <td>69.9612</td>\n",
       "      <td>0.001101</td>\n",
       "      <td>0.000336</td>\n",
       "      <td>4</td>\n",
       "      <td>0.000294</td>\n",
       "      <td>0.000461</td>\n",
       "      <td>0.002926</td>\n",
       "      <td>44.6475</td>\n",
       "      <td>75.3548</td>\n",
       "      <td>4.0430</td>\n",
       "      <td>22</td>\n",
       "      <td>0.000745</td>\n",
       "      <td>6</td>\n",
       "      <td>0.0</td>\n",
       "      <td>0.000189</td>\n",
       "    </tr>\n",
       "    <tr>\n",
       "      <th>3</th>\n",
       "      <td>57</td>\n",
       "      <td>3</td>\n",
       "      <td>19</td>\n",
       "      <td>20</td>\n",
       "      <td>400</td>\n",
       "      <td>107.6016</td>\n",
       "      <td>0.001034</td>\n",
       "      <td>0.000213</td>\n",
       "      <td>1</td>\n",
       "      <td>0.000053</td>\n",
       "      <td>0.000543</td>\n",
       "      <td>0.003783</td>\n",
       "      <td>29.2203</td>\n",
       "      <td>53.7352</td>\n",
       "      <td>4.9155</td>\n",
       "      <td>19</td>\n",
       "      <td>0.000426</td>\n",
       "      <td>7</td>\n",
       "      <td>0.0</td>\n",
       "      <td>0.000384</td>\n",
       "    </tr>\n",
       "    <tr>\n",
       "      <th>4</th>\n",
       "      <td>58</td>\n",
       "      <td>3</td>\n",
       "      <td>32</td>\n",
       "      <td>10</td>\n",
       "      <td>500</td>\n",
       "      <td>122.8908</td>\n",
       "      <td>0.001136</td>\n",
       "      <td>0.000327</td>\n",
       "      <td>2</td>\n",
       "      <td>0.000000</td>\n",
       "      <td>0.001329</td>\n",
       "      <td>0.002368</td>\n",
       "      <td>22.6885</td>\n",
       "      <td>62.0813</td>\n",
       "      <td>9.3740</td>\n",
       "      <td>15</td>\n",
       "      <td>0.001174</td>\n",
       "      <td>4</td>\n",
       "      <td>0.0</td>\n",
       "      <td>0.000019</td>\n",
       "    </tr>\n",
       "  </tbody>\n",
       "</table>\n",
       "</div>"
      ],
      "text/plain": [
       "   GameID  LeagueIndex  Age  HoursPerWeek  TotalHours       APM  \\\n",
       "0      52            5   27            10        3000  143.7180   \n",
       "1      55            5   23            10        5000  129.2322   \n",
       "2      56            4   30            10         200   69.9612   \n",
       "3      57            3   19            20         400  107.6016   \n",
       "4      58            3   32            10         500  122.8908   \n",
       "\n",
       "   SelectByHotkeys  AssignToHotkeys  UniqueHotkeys  MinimapAttacks  \\\n",
       "0         0.003515         0.000220              7        0.000110   \n",
       "1         0.003304         0.000259              4        0.000294   \n",
       "2         0.001101         0.000336              4        0.000294   \n",
       "3         0.001034         0.000213              1        0.000053   \n",
       "4         0.001136         0.000327              2        0.000000   \n",
       "\n",
       "   MinimapRightClicks  NumberOfPACs  GapBetweenPACs  ActionLatency  \\\n",
       "0            0.000392      0.004849         32.6677        40.8673   \n",
       "1            0.000432      0.004307         32.9194        42.3454   \n",
       "2            0.000461      0.002926         44.6475        75.3548   \n",
       "3            0.000543      0.003783         29.2203        53.7352   \n",
       "4            0.001329      0.002368         22.6885        62.0813   \n",
       "\n",
       "   ActionsInPAC  TotalMapExplored  WorkersMade  UniqueUnitsMade  \\\n",
       "0        4.7508                28     0.001397                6   \n",
       "1        4.8434                22     0.001194                5   \n",
       "2        4.0430                22     0.000745                6   \n",
       "3        4.9155                19     0.000426                7   \n",
       "4        9.3740                15     0.001174                4   \n",
       "\n",
       "   ComplexUnitsMade  ComplexAbilitiesUsed  \n",
       "0               0.0              0.000000  \n",
       "1               0.0              0.000208  \n",
       "2               0.0              0.000189  \n",
       "3               0.0              0.000384  \n",
       "4               0.0              0.000019  "
      ]
     },
     "execution_count": 2,
     "metadata": {},
     "output_type": "execute_result"
    }
   ],
   "source": [
    "data = pd.read_csv('SkillCraft1_Dataset_2.csv')\n",
    "data.head()"
   ]
  },
  {
   "cell_type": "code",
   "execution_count": 4,
   "metadata": {},
   "outputs": [
    {
     "name": "stdout",
     "output_type": "stream",
     "text": [
      "Training size: X=(2500, 7), y=(2500,)\n",
      "Validation size: X=(500, 7), y=(500,)\n",
      "Test size: X=(300, 7), y=(300,)\n"
     ]
    },
    {
     "data": {
      "image/png": "[encoded data removed]",
      "text/plain": [
       "<Figure size 432x288 with 1 Axes>"
      ]
     },
     "metadata": {
      "needs_background": "light"
     },
     "output_type": "display_data"
    }
   ],
   "source": [
    "np_data = data.to_numpy(dtype=np.float32)\n",
    "num_data, features = np_data.shape\n",
    "relevant_data = np.zeros([num_data,7])\n",
    "relevant_data[:,0]=np_data[:,2]\n",
    "relevant_data[:,1]=np_data[:,3]\n",
    "relevant_data[:,2]=np_data[:,5]\n",
    "relevant_data[:,3]=np_data[:,6]\n",
    "relevant_data[:,4]=np_data[:,11]\n",
    "relevant_data[:,5]=np_data[:,12]\n",
    "relevant_data[:,6]=np_data[:,13]\n",
    "\n",
    "target_data = np_data[:,1]\n",
    "\n",
    "Xtrain = relevant_data[0:2500, :]\n",
    "ytrain = target_data[0:2500]\n",
    "\n",
    "Xval = relevant_data[2500:3000, :]\n",
    "yval = target_data[2500:3000]\n",
    "\n",
    "Xtest = relevant_data[3000:3300, :]\n",
    "ytest = target_data[3000:3300]\n",
    "\n",
    "plt.scatter(np_data[:,1],relevant_data[:,0])\n",
    "\n",
    "print(\"Training size: X={}, y={}\".format(Xtrain.shape, ytrain.shape))\n",
    "print(\"Validation size: X={}, y={}\".format(Xval.shape, yval.shape))\n",
    "print(\"Test size: X={}, y={}\".format(Xtest.shape, ytest.shape))"
   ]
  },
  {
   "cell_type": "code",
   "execution_count": 5,
   "metadata": {},
   "outputs": [
    {
     "name": "stdout",
     "output_type": "stream",
     "text": [
      "[ 1.49221489e-02  6.88108214e-03  5.37966626e-03  2.58949201e+01\n",
      "  1.89710165e+02 -1.19392771e-02 -2.24614620e-02]\n"
     ]
    }
   ],
   "source": [
    "\n",
    "def eval_perfomance(X, y, regressor):\n",
    "  y_pred = regressor.predict(X)\n",
    "  if len(y_pred.shape) > 1:\n",
    "    y_pred = y_pred.flatten()\n",
    "  diff = y - y_pred\n",
    "  return np.sqrt(np.dot(diff,diff)/len(diff))\n",
    "\n",
    "class MeanPredictor:\n",
    "  def predict(self, X):\n",
    "    return np.zeros(len(X))\n",
    "\n",
    "from sklearn.linear_model import LinearRegression\n",
    "\n",
    "mean_predictor = MeanPredictor() \n",
    "\n",
    "linear_model = LinearRegression()\n",
    "linear_model.fit(Xtrain, ytrain)\n",
    "print(linear_model.coef_)\n"
   ]
  },
  {
   "cell_type": "code",
   "execution_count": 6,
   "metadata": {},
   "outputs": [
    {
     "name": "stdout",
     "output_type": "stream",
     "text": [
      "Error Lineal: training= 1.016123017216146, val= 1.0227745302482234\n",
      "Mean predictor error=4.310823587204654\n",
      "[2.10000000e+01 1.60000000e+01 9.28056030e+01 8.63142428e-04\n",
      " 3.56576871e-03 3.73704987e+01 5.33492012e+01]\n",
      "[5 3 4 3 2 5 1 4 2 4 3 2 3 5 3 5 5 4 5 4]\n",
      "[5 2 3 5 3 6 1 3 2 3 4 3 6 6 5 6 5 6 6 5]\n"
     ]
    }
   ],
   "source": [
    "linear_train_perf = eval_perfomance(Xtrain, ytrain, linear_model)\n",
    "linear_val_perf = eval_perfomance(Xval, yval, linear_model)\n",
    "mean_pred_train_perf = eval_perfomance(Xtrain, ytrain, mean_predictor)\n",
    "\n",
    "print(\"Error Lineal: training= {}, val= {}\".format(linear_train_perf, linear_val_perf))\n",
    "print(\"Mean predictor error={}\".format(mean_pred_train_perf))\n",
    "\n",
    "print(Xtest[2])\n",
    "target_prueba= linear_model.predict(Xtest[0:20,:])\n",
    "print(target_prueba.astype(int))\n",
    "print(ytest[0:20].astype(int))"
   ]
  },
  {
   "cell_type": "markdown",
   "metadata": {},
   "source": [
    "## Realizaremos un algoritmo de Clustering K-means##"
   ]
  },
  {
   "cell_type": "code",
   "execution_count": 7,
   "metadata": {},
   "outputs": [],
   "source": [
    "from sklearn.cluster import KMeans\n",
    "\n",
    "kmeans = KMeans(n_clusters=6).fit(Xtrain)"
   ]
  },
  {
   "cell_type": "code",
   "execution_count": 8,
   "metadata": {},
   "outputs": [
    {
     "name": "stdout",
     "output_type": "stream",
     "text": [
      "Predict Data:[3 2 2 2 4 6 4 2 5 3 5 4 2 3 2 3 6 2 6 3]\n",
      "Real Data:   [5 2 3 5 3 6 1 3 2 3 4 3 6 6 5 6 5 6 6 5]\n",
      "Error kmeans classificator: 2.619465594353169\n"
     ]
    }
   ],
   "source": [
    "\n",
    "target_prueba_kmeans = kmeans.predict(Xtest[0:20,:])\n",
    "print(\"Predict Data:{}\".format(target_prueba_kmeans.astype(int)+1))\n",
    "print(\"Real Data:   {}\".format(ytest[0:20].astype(int)))\n",
    "\n",
    "kmeans_train_perf = eval_perfomance(Xtrain, ytrain, kmeans)\n",
    "print(\"Error kmeans classificator: {}\".format(kmeans_train_perf))\n"
   ]
  }
 ],
 "metadata": {
  "kernelspec": {
   "display_name": "Python 3",
   "language": "python",
   "name": "python3"
  },
  "language_info": {
   "codemirror_mode": {
    "name": "ipython",
    "version": 3
   },
   "file_extension": ".py",
   "mimetype": "text/x-python",
   "name": "python",
   "nbconvert_exporter": "python",
   "pygments_lexer": "ipython3",
   "version": "3.7.3"
  }
 },
 "nbformat": 4,
 "nbformat_minor": 2
}
